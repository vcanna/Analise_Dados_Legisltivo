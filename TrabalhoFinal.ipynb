{
 "cells": [
  {
   "cell_type": "markdown",
   "metadata": {},
   "source": [
    "## Trabalho Final - Ciência de Dados - Enap / 2020"
   ]
  },
  {
   "cell_type": "code",
   "execution_count": null,
   "metadata": {},
   "outputs": [],
   "source": [
    "# Preencha seu Nome:\n",
    "Nome: Victor Cannavale"
   ]
  },
  {
   "cell_type": "markdown",
   "metadata": {},
   "source": [
    "### Apresentação do Dataset"
   ]
  },
  {
   "cell_type": "code",
   "execution_count": 1,
   "metadata": {
    "deletable": false,
    "nbgrader": {
     "cell_type": "code",
     "checksum": "df725c16c2d49add1eb9775d05df2bf4",
     "grade": true,
     "grade_id": "cell-747db8f94c086679",
     "locked": false,
     "points": 1,
     "schema_version": 3,
     "solution": true,
     "task": false
    }
   },
   "outputs": [
    {
     "ename": "SyntaxError",
     "evalue": "invalid syntax (<ipython-input-1-d9823c03712a>, line 2)",
     "output_type": "error",
     "traceback": [
      "\u001b[0;36m  File \u001b[0;32m\"<ipython-input-1-d9823c03712a>\"\u001b[0;36m, line \u001b[0;32m2\u001b[0m\n\u001b[0;31m    O Dataset escolhi trata-se dos dados abertos da Câmara dos Deputados. O Dataser, em questão, possui uma vasta coleção de dados, entre eles\u001b[0m\n\u001b[0m      ^\u001b[0m\n\u001b[0;31mSyntaxError\u001b[0m\u001b[0;31m:\u001b[0m invalid syntax\n"
     ]
    }
   ],
   "source": [
    "# YOUR CODE HERE\n",
    "O Dataset escolhi trata-se dos dados abertos da Câmara dos Deputados. O Dataser, em questão, possui uma vasta coleção de dados, \n",
    "entre eles: Legislaturas, Deputados, Partidos, Blocos, Órgãos, Frentes, Eventos, Preposições, Votações, Refência e Atualização. \n",
    "    \n",
    "Os dados estão disponibilizados em formato tabular e em diversos formatos. "
   ]
  },
  {
   "cell_type": "markdown",
   "metadata": {},
   "source": [
    "#### Link para Download do Dataset"
   ]
  },
  {
   "cell_type": "code",
   "execution_count": null,
   "metadata": {},
   "outputs": [],
   "source": [
    "# Cole o link do dataset aqui\n",
    "Página Principal: https://dadosabertos.camara.leg.br/\n",
    "\n",
    "Dataset:\n",
    "\n",
    "https://dadosabertos.camara.leg.br/arquivos/proposicoes/csv/proposicoes-2020.csv\n",
    "https://dadosabertos.camara.leg.br/arquivos/proposicoesAutores/csv/proposicoesAutores-2020.csv"
   ]
  },
  {
   "cell_type": "markdown",
   "metadata": {},
   "source": [
    "### Motivação"
   ]
  },
  {
   "cell_type": "code",
   "execution_count": null,
   "metadata": {
    "deletable": false,
    "nbgrader": {
     "cell_type": "code",
     "checksum": "d88b06e235435f144aa28d716c84bb7c",
     "grade": true,
     "grade_id": "cell-78e97c9cbf087543",
     "locked": false,
     "points": 1,
     "schema_version": 3,
     "solution": true,
     "task": false
    }
   },
   "outputs": [],
   "source": [
    "# YOUR CODE HERE\n",
    "A motivação para o trabalho com a base de dados da Câmara dos Deputados permite adquirir conhecimento no funcionamento legislativo,\n",
    "além de agregar conhecimento para o meu trabalho na representação institucional do órgão."
   ]
  },
  {
   "cell_type": "markdown",
   "metadata": {},
   "source": [
    "### Investigação"
   ]
  },
  {
   "cell_type": "code",
   "execution_count": 3,
   "metadata": {
    "deletable": false,
    "nbgrader": {
     "cell_type": "code",
     "checksum": "252412f5fa440cf0597da99982fc1fa4",
     "grade": true,
     "grade_id": "cell-4727d55417ba9b09",
     "locked": false,
     "points": 3,
     "schema_version": 3,
     "solution": true,
     "task": false
    }
   },
   "outputs": [],
   "source": [
    "# Bibliotecas\n",
    "import pandas as pd\n",
    "import numpy as np\n",
    "from datetime import datetime\n",
    "import sys\n",
    "import seaborn as sns\n",
    "import re\n",
    "%matplotlib inline"
   ]
  },
  {
   "cell_type": "code",
   "execution_count": 4,
   "metadata": {},
   "outputs": [
    {
     "data": {
      "text/html": [
       "<div>\n",
       "<style scoped>\n",
       "    .dataframe tbody tr th:only-of-type {\n",
       "        vertical-align: middle;\n",
       "    }\n",
       "\n",
       "    .dataframe tbody tr th {\n",
       "        vertical-align: top;\n",
       "    }\n",
       "\n",
       "    .dataframe thead th {\n",
       "        text-align: right;\n",
       "    }\n",
       "</style>\n",
       "<table border=\"1\" class=\"dataframe\">\n",
       "  <thead>\n",
       "    <tr style=\"text-align: right;\">\n",
       "      <th></th>\n",
       "      <th>id</th>\n",
       "      <th>uri</th>\n",
       "      <th>siglaTipo</th>\n",
       "      <th>numero</th>\n",
       "      <th>ano</th>\n",
       "      <th>codTipo</th>\n",
       "      <th>descricaoTipo</th>\n",
       "      <th>ementa</th>\n",
       "      <th>ementaDetalhada</th>\n",
       "      <th>keywords</th>\n",
       "      <th>...</th>\n",
       "      <th>idDeputadoAutor</th>\n",
       "      <th>uriAutor</th>\n",
       "      <th>codTipoAutor</th>\n",
       "      <th>tipoAutor</th>\n",
       "      <th>nomeAutor</th>\n",
       "      <th>siglaPartidoAutor</th>\n",
       "      <th>uriPartidoAutor</th>\n",
       "      <th>siglaUFAutor</th>\n",
       "      <th>ordemAssinatura</th>\n",
       "      <th>proponente</th>\n",
       "    </tr>\n",
       "  </thead>\n",
       "  <tbody>\n",
       "    <tr>\n",
       "      <th>0</th>\n",
       "      <td>2077498</td>\n",
       "      <td>https://dadosabertos.camara.leg.br/api/v2/prop...</td>\n",
       "      <td>PL</td>\n",
       "      <td>1600</td>\n",
       "      <td>2020</td>\n",
       "      <td>139</td>\n",
       "      <td>Projeto de Lei</td>\n",
       "      <td>Altera a Lei nº 8.069, de 13 de julho de 1990,...</td>\n",
       "      <td>NaN</td>\n",
       "      <td>Alteração, Estatuto da Criança e do Adolescent...</td>\n",
       "      <td>...</td>\n",
       "      <td>141383.0</td>\n",
       "      <td>https://dadosabertos.camara.leg.br/api/v2/depu...</td>\n",
       "      <td>10000</td>\n",
       "      <td>Deputado</td>\n",
       "      <td>Antonio Bulhões</td>\n",
       "      <td>PRB</td>\n",
       "      <td>https://dadosabertos.camara.leg.br/api/v2/part...</td>\n",
       "      <td>SP</td>\n",
       "      <td>1</td>\n",
       "      <td>1</td>\n",
       "    </tr>\n",
       "    <tr>\n",
       "      <th>1</th>\n",
       "      <td>2116186</td>\n",
       "      <td>https://dadosabertos.camara.leg.br/api/v2/prop...</td>\n",
       "      <td>PL</td>\n",
       "      <td>1599</td>\n",
       "      <td>2020</td>\n",
       "      <td>139</td>\n",
       "      <td>Projeto de Lei</td>\n",
       "      <td>Institui a Semana Nacional de Prevenção e Comb...</td>\n",
       "      <td>NaN</td>\n",
       "      <td>Criação, Semana Nacional de Prevenção e Combat...</td>\n",
       "      <td>...</td>\n",
       "      <td>178956.0</td>\n",
       "      <td>https://dadosabertos.camara.leg.br/api/v2/depu...</td>\n",
       "      <td>10000</td>\n",
       "      <td>Deputado</td>\n",
       "      <td>Mariana Carvalho</td>\n",
       "      <td>PSDB</td>\n",
       "      <td>https://dadosabertos.camara.leg.br/api/v2/part...</td>\n",
       "      <td>RO</td>\n",
       "      <td>1</td>\n",
       "      <td>1</td>\n",
       "    </tr>\n",
       "    <tr>\n",
       "      <th>2</th>\n",
       "      <td>2236217</td>\n",
       "      <td>https://dadosabertos.camara.leg.br/api/v2/prop...</td>\n",
       "      <td>SUG</td>\n",
       "      <td>1</td>\n",
       "      <td>2020</td>\n",
       "      <td>285</td>\n",
       "      <td>Sugestão</td>\n",
       "      <td>Sugere estudo visando verificar a atuação do M...</td>\n",
       "      <td>NaN</td>\n",
       "      <td>NaN</td>\n",
       "      <td>...</td>\n",
       "      <td>NaN</td>\n",
       "      <td>https://dadosabertos.camara.leg.br/api/v2/orga...</td>\n",
       "      <td>70000</td>\n",
       "      <td>Sociedade Civil</td>\n",
       "      <td>Sindicato Nacional dos Trabalhadores em Fundaç...</td>\n",
       "      <td>NaN</td>\n",
       "      <td>NaN</td>\n",
       "      <td>NaN</td>\n",
       "      <td>1</td>\n",
       "      <td>1</td>\n",
       "    </tr>\n",
       "    <tr>\n",
       "      <th>3</th>\n",
       "      <td>2236218</td>\n",
       "      <td>https://dadosabertos.camara.leg.br/api/v2/prop...</td>\n",
       "      <td>SUG</td>\n",
       "      <td>2</td>\n",
       "      <td>2020</td>\n",
       "      <td>285</td>\n",
       "      <td>Sugestão</td>\n",
       "      <td>Sugere audiência pública para debater assuntos...</td>\n",
       "      <td>NaN</td>\n",
       "      <td>NaN</td>\n",
       "      <td>...</td>\n",
       "      <td>NaN</td>\n",
       "      <td>https://dadosabertos.camara.leg.br/api/v2/orga...</td>\n",
       "      <td>70000</td>\n",
       "      <td>Sociedade Civil</td>\n",
       "      <td>Associação Nacional de Fibromiálgicos e Doença...</td>\n",
       "      <td>NaN</td>\n",
       "      <td>NaN</td>\n",
       "      <td>NaN</td>\n",
       "      <td>1</td>\n",
       "      <td>1</td>\n",
       "    </tr>\n",
       "    <tr>\n",
       "      <th>4</th>\n",
       "      <td>2236222</td>\n",
       "      <td>https://dadosabertos.camara.leg.br/api/v2/prop...</td>\n",
       "      <td>RIC</td>\n",
       "      <td>1</td>\n",
       "      <td>2020</td>\n",
       "      <td>148</td>\n",
       "      <td>Requerimento de Informação</td>\n",
       "      <td>Requer informações detalhadas ao Ministro da C...</td>\n",
       "      <td>NaN</td>\n",
       "      <td>NaN</td>\n",
       "      <td>...</td>\n",
       "      <td>204429.0</td>\n",
       "      <td>https://dadosabertos.camara.leg.br/api/v2/depu...</td>\n",
       "      <td>10000</td>\n",
       "      <td>Deputado</td>\n",
       "      <td>João H. Campos</td>\n",
       "      <td>PSB</td>\n",
       "      <td>https://dadosabertos.camara.leg.br/api/v2/part...</td>\n",
       "      <td>PE</td>\n",
       "      <td>1</td>\n",
       "      <td>1</td>\n",
       "    </tr>\n",
       "  </tbody>\n",
       "</table>\n",
       "<p>5 rows × 42 columns</p>\n",
       "</div>"
      ],
      "text/plain": [
       "        id                                                uri siglaTipo  \\\n",
       "0  2077498  https://dadosabertos.camara.leg.br/api/v2/prop...        PL   \n",
       "1  2116186  https://dadosabertos.camara.leg.br/api/v2/prop...        PL   \n",
       "2  2236217  https://dadosabertos.camara.leg.br/api/v2/prop...       SUG   \n",
       "3  2236218  https://dadosabertos.camara.leg.br/api/v2/prop...       SUG   \n",
       "4  2236222  https://dadosabertos.camara.leg.br/api/v2/prop...       RIC   \n",
       "\n",
       "   numero   ano  codTipo               descricaoTipo  \\\n",
       "0    1600  2020      139              Projeto de Lei   \n",
       "1    1599  2020      139              Projeto de Lei   \n",
       "2       1  2020      285                    Sugestão   \n",
       "3       2  2020      285                    Sugestão   \n",
       "4       1  2020      148  Requerimento de Informação   \n",
       "\n",
       "                                              ementa ementaDetalhada  \\\n",
       "0  Altera a Lei nº 8.069, de 13 de julho de 1990,...             NaN   \n",
       "1  Institui a Semana Nacional de Prevenção e Comb...             NaN   \n",
       "2  Sugere estudo visando verificar a atuação do M...             NaN   \n",
       "3  Sugere audiência pública para debater assuntos...             NaN   \n",
       "4  Requer informações detalhadas ao Ministro da C...             NaN   \n",
       "\n",
       "                                            keywords  ... idDeputadoAutor  \\\n",
       "0  Alteração, Estatuto da Criança e do Adolescent...  ...        141383.0   \n",
       "1  Criação, Semana Nacional de Prevenção e Combat...  ...        178956.0   \n",
       "2                                                NaN  ...             NaN   \n",
       "3                                                NaN  ...             NaN   \n",
       "4                                                NaN  ...        204429.0   \n",
       "\n",
       "                                            uriAutor  codTipoAutor  \\\n",
       "0  https://dadosabertos.camara.leg.br/api/v2/depu...         10000   \n",
       "1  https://dadosabertos.camara.leg.br/api/v2/depu...         10000   \n",
       "2  https://dadosabertos.camara.leg.br/api/v2/orga...         70000   \n",
       "3  https://dadosabertos.camara.leg.br/api/v2/orga...         70000   \n",
       "4  https://dadosabertos.camara.leg.br/api/v2/depu...         10000   \n",
       "\n",
       "         tipoAutor                                          nomeAutor  \\\n",
       "0         Deputado                                    Antonio Bulhões   \n",
       "1         Deputado                                   Mariana Carvalho   \n",
       "2  Sociedade Civil  Sindicato Nacional dos Trabalhadores em Fundaç...   \n",
       "3  Sociedade Civil  Associação Nacional de Fibromiálgicos e Doença...   \n",
       "4         Deputado                                     João H. Campos   \n",
       "\n",
       "  siglaPartidoAutor                                    uriPartidoAutor  \\\n",
       "0               PRB  https://dadosabertos.camara.leg.br/api/v2/part...   \n",
       "1              PSDB  https://dadosabertos.camara.leg.br/api/v2/part...   \n",
       "2               NaN                                                NaN   \n",
       "3               NaN                                                NaN   \n",
       "4               PSB  https://dadosabertos.camara.leg.br/api/v2/part...   \n",
       "\n",
       "  siglaUFAutor  ordemAssinatura proponente  \n",
       "0           SP                1          1  \n",
       "1           RO                1          1  \n",
       "2          NaN                1          1  \n",
       "3          NaN                1          1  \n",
       "4           PE                1          1  \n",
       "\n",
       "[5 rows x 42 columns]"
      ]
     },
     "execution_count": 4,
     "metadata": {},
     "output_type": "execute_result"
    }
   ],
   "source": [
    "#Banco de dados (Preposições e Autores)\n",
    "\n",
    "df1 = pd.read_csv('https://dadosabertos.camara.leg.br/arquivos/proposicoes/csv/proposicoes-2020.csv', sep=';')\n",
    "df2 = pd.read_csv('https://dadosabertos.camara.leg.br/arquivos/proposicoesAutores/csv/proposicoesAutores-2020.csv', sep=';')\n",
    "\n",
    "df_dados = df1.merge(df2, left_on='id', right_on='idProposicao')\n",
    "\n",
    "df_dados.head()"
   ]
  },
  {
   "cell_type": "markdown",
   "metadata": {},
   "source": [
    "### Análise dos dados da Câmara dos Deputados:"
   ]
  },
  {
   "cell_type": "markdown",
   "metadata": {},
   "source": [
    "#####  1- Produção Legislativa por partido para projetos de lei"
   ]
  },
  {
   "cell_type": "code",
   "execution_count": 9,
   "metadata": {},
   "outputs": [],
   "source": [
    "# Seleção de tabelas de interesse (Tipo de Proposta e Partido)\n",
    "prodleg = df_dados.iloc[:,[2,37]]"
   ]
  },
  {
   "cell_type": "code",
   "execution_count": 54,
   "metadata": {},
   "outputs": [],
   "source": [
    "# Contabilizar a quantidade de proposta produzida pelo partido para projetos de lei\n",
    "prodlegqtd = prodleg[prodleg['siglaTipo'] == 'PL'].groupby(['siglaPartidoAutor']).agg('count')"
   ]
  },
  {
   "cell_type": "code",
   "execution_count": 56,
   "metadata": {},
   "outputs": [
    {
     "data": {
      "text/plain": [
       "Text(0.5, 1.0, 'Produção legislativa de projetos de lei na Câmara dos Deputados por Partido')"
      ]
     },
     "execution_count": 56,
     "metadata": {},
     "output_type": "execute_result"
    },
    {
     "data": {
      "image/png": "[encoded data removed]",
      "text/plain": [
       "<Figure size 432x288 with 1 Axes>"
      ]
     },
     "metadata": {
      "needs_background": "light"
     },
     "output_type": "display_data"
    }
   ],
   "source": [
    "#Plotar no gráfico estas informações\n",
    "graficprod = prodlegqtd.plot.bar(stacked=True)\n",
    "graficprod.set_title('Produção legislativa de projetos de lei na Câmara dos Deputados por Partido', fontsize=15)\n",
    "\n",
    "#Obs: O partido dos trabalhadores apresenta maior produção"
   ]
  },
  {
   "cell_type": "markdown",
   "metadata": {},
   "source": [
    "#####  2 - Análise do tempo médio de aprovação de projetos de lei na Câmara dos Deputados"
   ]
  },
  {
   "cell_type": "code",
   "execution_count": 59,
   "metadata": {},
   "outputs": [
    {
     "data": {
      "text/html": [
       "<div>\n",
       "<style scoped>\n",
       "    .dataframe tbody tr th:only-of-type {\n",
       "        vertical-align: middle;\n",
       "    }\n",
       "\n",
       "    .dataframe tbody tr th {\n",
       "        vertical-align: top;\n",
       "    }\n",
       "\n",
       "    .dataframe thead th {\n",
       "        text-align: right;\n",
       "    }\n",
       "</style>\n",
       "<table border=\"1\" class=\"dataframe\">\n",
       "  <thead>\n",
       "    <tr style=\"text-align: right;\">\n",
       "      <th></th>\n",
       "      <th>siglaTipo</th>\n",
       "      <th>siglaPartidoAutor</th>\n",
       "      <th>ultimoStatus_regime</th>\n",
       "      <th>ultimoStatus_descricaoTramitacao</th>\n",
       "      <th>dataApresentacao</th>\n",
       "      <th>ultimoStatus_dataHora</th>\n",
       "    </tr>\n",
       "  </thead>\n",
       "  <tbody>\n",
       "    <tr>\n",
       "      <th>0</th>\n",
       "      <td>PL</td>\n",
       "      <td>PRB</td>\n",
       "      <td>Ordinária (Art. 151, III, RICD)</td>\n",
       "      <td>Publicação de Proposição</td>\n",
       "      <td>2016-02-18T12:56:57</td>\n",
       "      <td>2020-09-29T00:00:00</td>\n",
       "    </tr>\n",
       "    <tr>\n",
       "      <th>1</th>\n",
       "      <td>PL</td>\n",
       "      <td>PSDB</td>\n",
       "      <td>Ordinária (Art. 151, III, RICD)</td>\n",
       "      <td>Publicação de Proposição</td>\n",
       "      <td>2016-11-07T18:01:00</td>\n",
       "      <td>2020-09-29T00:00:00</td>\n",
       "    </tr>\n",
       "    <tr>\n",
       "      <th>2</th>\n",
       "      <td>SUG</td>\n",
       "      <td>NaN</td>\n",
       "      <td>Ordinária (Art. 151, III, RICD)</td>\n",
       "      <td>Apresentação de Proposição</td>\n",
       "      <td>2020-01-03T11:09:00</td>\n",
       "      <td>2020-01-03T11:09:00</td>\n",
       "    </tr>\n",
       "    <tr>\n",
       "      <th>3</th>\n",
       "      <td>SUG</td>\n",
       "      <td>NaN</td>\n",
       "      <td>Ordinária (Art. 151, III, RICD)</td>\n",
       "      <td>Apresentação de Proposição</td>\n",
       "      <td>2020-01-03T11:24:00</td>\n",
       "      <td>2020-01-03T11:24:00</td>\n",
       "    </tr>\n",
       "    <tr>\n",
       "      <th>4</th>\n",
       "      <td>RIC</td>\n",
       "      <td>PSB</td>\n",
       "      <td>NaN</td>\n",
       "      <td>Ratificação de Parecer</td>\n",
       "      <td>2020-01-03T14:50:13</td>\n",
       "      <td>2020-07-22T16:30:00</td>\n",
       "    </tr>\n",
       "    <tr>\n",
       "      <th>...</th>\n",
       "      <td>...</td>\n",
       "      <td>...</td>\n",
       "      <td>...</td>\n",
       "      <td>...</td>\n",
       "      <td>...</td>\n",
       "      <td>...</td>\n",
       "    </tr>\n",
       "    <tr>\n",
       "      <th>48168</th>\n",
       "      <td>REQ</td>\n",
       "      <td>PSD</td>\n",
       "      <td>NaN</td>\n",
       "      <td>Apresentação de Proposição</td>\n",
       "      <td>2020-10-22T18:13:00</td>\n",
       "      <td>2020-10-22T19:31:45</td>\n",
       "    </tr>\n",
       "    <tr>\n",
       "      <th>48169</th>\n",
       "      <td>REQ</td>\n",
       "      <td>PTB</td>\n",
       "      <td>NaN</td>\n",
       "      <td>Apresentação de Proposição</td>\n",
       "      <td>2020-10-22T18:13:00</td>\n",
       "      <td>2020-10-22T19:31:45</td>\n",
       "    </tr>\n",
       "    <tr>\n",
       "      <th>48170</th>\n",
       "      <td>REQ</td>\n",
       "      <td>PTB</td>\n",
       "      <td>NaN</td>\n",
       "      <td>Apresentação de Proposição</td>\n",
       "      <td>2020-10-22T18:13:00</td>\n",
       "      <td>2020-10-22T19:31:45</td>\n",
       "    </tr>\n",
       "    <tr>\n",
       "      <th>48171</th>\n",
       "      <td>REQ</td>\n",
       "      <td>PSDB</td>\n",
       "      <td>NaN</td>\n",
       "      <td>Apresentação de Proposição</td>\n",
       "      <td>2020-10-22T18:20:00</td>\n",
       "      <td>2020-10-22T19:32:58</td>\n",
       "    </tr>\n",
       "    <tr>\n",
       "      <th>48172</th>\n",
       "      <td>REQ</td>\n",
       "      <td>PP</td>\n",
       "      <td>NaN</td>\n",
       "      <td>Apresentação de Proposição</td>\n",
       "      <td>2020-10-22T18:20:00</td>\n",
       "      <td>2020-10-22T19:32:58</td>\n",
       "    </tr>\n",
       "  </tbody>\n",
       "</table>\n",
       "<p>48173 rows × 6 columns</p>\n",
       "</div>"
      ],
      "text/plain": [
       "      siglaTipo siglaPartidoAutor              ultimoStatus_regime  \\\n",
       "0            PL               PRB  Ordinária (Art. 151, III, RICD)   \n",
       "1            PL              PSDB  Ordinária (Art. 151, III, RICD)   \n",
       "2           SUG               NaN  Ordinária (Art. 151, III, RICD)   \n",
       "3           SUG               NaN  Ordinária (Art. 151, III, RICD)   \n",
       "4           RIC               PSB                              NaN   \n",
       "...         ...               ...                              ...   \n",
       "48168       REQ               PSD                              NaN   \n",
       "48169       REQ               PTB                              NaN   \n",
       "48170       REQ               PTB                              NaN   \n",
       "48171       REQ              PSDB                              NaN   \n",
       "48172       REQ                PP                              NaN   \n",
       "\n",
       "      ultimoStatus_descricaoTramitacao     dataApresentacao  \\\n",
       "0             Publicação de Proposição  2016-02-18T12:56:57   \n",
       "1             Publicação de Proposição  2016-11-07T18:01:00   \n",
       "2           Apresentação de Proposição  2020-01-03T11:09:00   \n",
       "3           Apresentação de Proposição  2020-01-03T11:24:00   \n",
       "4               Ratificação de Parecer  2020-01-03T14:50:13   \n",
       "...                                ...                  ...   \n",
       "48168       Apresentação de Proposição  2020-10-22T18:13:00   \n",
       "48169       Apresentação de Proposição  2020-10-22T18:13:00   \n",
       "48170       Apresentação de Proposição  2020-10-22T18:13:00   \n",
       "48171       Apresentação de Proposição  2020-10-22T18:20:00   \n",
       "48172       Apresentação de Proposição  2020-10-22T18:20:00   \n",
       "\n",
       "      ultimoStatus_dataHora  \n",
       "0       2020-09-29T00:00:00  \n",
       "1       2020-09-29T00:00:00  \n",
       "2       2020-01-03T11:09:00  \n",
       "3       2020-01-03T11:24:00  \n",
       "4       2020-07-22T16:30:00  \n",
       "...                     ...  \n",
       "48168   2020-10-22T19:31:45  \n",
       "48169   2020-10-22T19:31:45  \n",
       "48170   2020-10-22T19:31:45  \n",
       "48171   2020-10-22T19:32:58  \n",
       "48172   2020-10-22T19:32:58  \n",
       "\n",
       "[48173 rows x 6 columns]"
      ]
     },
     "execution_count": 59,
     "metadata": {},
     "output_type": "execute_result"
    }
   ],
   "source": [
    "#Selecionar os dados a serem analisados\n",
    "tempomedio = df_dados.iloc[:,[2,37,23,24,10,17]]"
   ]
  },
  {
   "cell_type": "code",
   "execution_count": 62,
   "metadata": {},
   "outputs": [
    {
     "name": "stderr",
     "output_type": "stream",
     "text": [
      "<ipython-input-62-0b041f86c6b6>:3: SettingWithCopyWarning: \n",
      "A value is trying to be set on a copy of a slice from a DataFrame.\n",
      "Try using .loc[row_indexer,col_indexer] = value instead\n",
      "\n",
      "See the caveats in the documentation: https://pandas.pydata.org/pandas-docs/stable/user_guide/indexing.html#returning-a-view-versus-a-copy\n",
      "  tempomedio['dataApresentacao'] = pd.to_datetime(tempomedio['dataApresentacao']).dt.date\n",
      "<ipython-input-62-0b041f86c6b6>:4: SettingWithCopyWarning: \n",
      "A value is trying to be set on a copy of a slice from a DataFrame.\n",
      "Try using .loc[row_indexer,col_indexer] = value instead\n",
      "\n",
      "See the caveats in the documentation: https://pandas.pydata.org/pandas-docs/stable/user_guide/indexing.html#returning-a-view-versus-a-copy\n",
      "  tempomedio['ultimoStatus_dataHora'] = pd.to_datetime(tempomedio['ultimoStatus_dataHora']).dt.date\n"
     ]
    }
   ],
   "source": [
    "#Transformação a data de apresentacao e último status em data\n",
    "\n",
    "tempomedio['dataApresentacao'] = pd.to_datetime(tempomedio['dataApresentacao']).dt.date\n",
    "tempomedio['ultimoStatus_dataHora'] = pd.to_datetime(tempomedio['ultimoStatus_dataHora']).dt.date"
   ]
  },
  {
   "cell_type": "code",
   "execution_count": 66,
   "metadata": {},
   "outputs": [
    {
     "name": "stderr",
     "output_type": "stream",
     "text": [
      "<ipython-input-66-525aa98eb127>:3: SettingWithCopyWarning: \n",
      "A value is trying to be set on a copy of a slice from a DataFrame.\n",
      "Try using .loc[row_indexer,col_indexer] = value instead\n",
      "\n",
      "See the caveats in the documentation: https://pandas.pydata.org/pandas-docs/stable/user_guide/indexing.html#returning-a-view-versus-a-copy\n",
      "  tempomedio['TempodeTramitacao'] = tempomedio['ultimoStatus_dataHora'] - tempomedio['dataApresentacao']\n",
      "<ipython-input-66-525aa98eb127>:4: SettingWithCopyWarning: \n",
      "A value is trying to be set on a copy of a slice from a DataFrame.\n",
      "Try using .loc[row_indexer,col_indexer] = value instead\n",
      "\n",
      "See the caveats in the documentation: https://pandas.pydata.org/pandas-docs/stable/user_guide/indexing.html#returning-a-view-versus-a-copy\n",
      "  tempomedio['TempodeTramitacao'] = tempomedio['TempodeTramitacao'].astype(\"timedelta64[D]\").astype(int)\n"
     ]
    }
   ],
   "source": [
    "#Calcular os dias de tramitação de um projeto de lei\n",
    "\n",
    "tempomedio['TempodeTramitacao'] = tempomedio['ultimoStatus_dataHora'] - tempomedio['dataApresentacao']\n",
    "tempomedio['TempodeTramitacao'] = tempomedio['TempodeTramitacao'].astype(\"timedelta64[D]\").astype(int)"
   ]
  },
  {
   "cell_type": "code",
   "execution_count": 88,
   "metadata": {},
   "outputs": [
    {
     "data": {
      "text/html": [
       "<div>\n",
       "<style scoped>\n",
       "    .dataframe tbody tr th:only-of-type {\n",
       "        vertical-align: middle;\n",
       "    }\n",
       "\n",
       "    .dataframe tbody tr th {\n",
       "        vertical-align: top;\n",
       "    }\n",
       "\n",
       "    .dataframe thead th {\n",
       "        text-align: right;\n",
       "    }\n",
       "</style>\n",
       "<table border=\"1\" class=\"dataframe\">\n",
       "  <thead>\n",
       "    <tr style=\"text-align: right;\">\n",
       "      <th></th>\n",
       "      <th>siglaTipo</th>\n",
       "      <th>siglaPartidoAutor</th>\n",
       "      <th>ultimoStatus_regime</th>\n",
       "      <th>ultimoStatus_descricaoTramitacao</th>\n",
       "      <th>dataApresentacao</th>\n",
       "      <th>ultimoStatus_dataHora</th>\n",
       "      <th>TempodeTramitacao</th>\n",
       "    </tr>\n",
       "  </thead>\n",
       "  <tbody>\n",
       "    <tr>\n",
       "      <th>2981</th>\n",
       "      <td>PL</td>\n",
       "      <td>CIDADANIA</td>\n",
       "      <td>Urgência (Art. 155, RICD)</td>\n",
       "      <td>Transformação em Norma Jurídica</td>\n",
       "      <td>2020-03-17</td>\n",
       "      <td>2020-04-23</td>\n",
       "      <td>37</td>\n",
       "    </tr>\n",
       "    <tr>\n",
       "      <th>2982</th>\n",
       "      <td>PL</td>\n",
       "      <td>PP</td>\n",
       "      <td>Urgência (Art. 155, RICD)</td>\n",
       "      <td>Transformação em Norma Jurídica</td>\n",
       "      <td>2020-03-17</td>\n",
       "      <td>2020-04-23</td>\n",
       "      <td>37</td>\n",
       "    </tr>\n",
       "    <tr>\n",
       "      <th>2983</th>\n",
       "      <td>PL</td>\n",
       "      <td>PSB</td>\n",
       "      <td>Urgência (Art. 155, RICD)</td>\n",
       "      <td>Transformação em Norma Jurídica</td>\n",
       "      <td>2020-03-17</td>\n",
       "      <td>2020-04-23</td>\n",
       "      <td>37</td>\n",
       "    </tr>\n",
       "    <tr>\n",
       "      <th>3326</th>\n",
       "      <td>PL</td>\n",
       "      <td>PT</td>\n",
       "      <td>Urgência (Art. 155, RICD)</td>\n",
       "      <td>Transformado em Norma Jurídica com Veto Parcial</td>\n",
       "      <td>2020-03-18</td>\n",
       "      <td>2020-08-24</td>\n",
       "      <td>159</td>\n",
       "    </tr>\n",
       "    <tr>\n",
       "      <th>3327</th>\n",
       "      <td>PL</td>\n",
       "      <td>PT</td>\n",
       "      <td>Urgência (Art. 155, RICD)</td>\n",
       "      <td>Transformado em Norma Jurídica com Veto Parcial</td>\n",
       "      <td>2020-03-18</td>\n",
       "      <td>2020-08-24</td>\n",
       "      <td>159</td>\n",
       "    </tr>\n",
       "    <tr>\n",
       "      <th>...</th>\n",
       "      <td>...</td>\n",
       "      <td>...</td>\n",
       "      <td>...</td>\n",
       "      <td>...</td>\n",
       "      <td>...</td>\n",
       "      <td>...</td>\n",
       "      <td>...</td>\n",
       "    </tr>\n",
       "    <tr>\n",
       "      <th>24668</th>\n",
       "      <td>PL</td>\n",
       "      <td>PSL</td>\n",
       "      <td>Urgência (Art. 155, RICD)</td>\n",
       "      <td>Transformação em Norma Jurídica</td>\n",
       "      <td>2020-06-02</td>\n",
       "      <td>2020-09-23</td>\n",
       "      <td>113</td>\n",
       "    </tr>\n",
       "    <tr>\n",
       "      <th>24669</th>\n",
       "      <td>PL</td>\n",
       "      <td>PSL</td>\n",
       "      <td>Urgência (Art. 155, RICD)</td>\n",
       "      <td>Transformação em Norma Jurídica</td>\n",
       "      <td>2020-06-02</td>\n",
       "      <td>2020-09-23</td>\n",
       "      <td>113</td>\n",
       "    </tr>\n",
       "    <tr>\n",
       "      <th>24670</th>\n",
       "      <td>PL</td>\n",
       "      <td>PT</td>\n",
       "      <td>Urgência (Art. 155, RICD)</td>\n",
       "      <td>Transformação em Norma Jurídica</td>\n",
       "      <td>2020-06-02</td>\n",
       "      <td>2020-09-23</td>\n",
       "      <td>113</td>\n",
       "    </tr>\n",
       "    <tr>\n",
       "      <th>24671</th>\n",
       "      <td>PL</td>\n",
       "      <td>PTB</td>\n",
       "      <td>Urgência (Art. 155, RICD)</td>\n",
       "      <td>Transformação em Norma Jurídica</td>\n",
       "      <td>2020-06-02</td>\n",
       "      <td>2020-09-23</td>\n",
       "      <td>113</td>\n",
       "    </tr>\n",
       "    <tr>\n",
       "      <th>31614</th>\n",
       "      <td>PL</td>\n",
       "      <td>PODEMOS</td>\n",
       "      <td>Urgência (Art. 155, RICD)</td>\n",
       "      <td>Transformado em Norma Jurídica com Veto Parcial</td>\n",
       "      <td>2020-07-07</td>\n",
       "      <td>2020-08-20</td>\n",
       "      <td>44</td>\n",
       "    </tr>\n",
       "  </tbody>\n",
       "</table>\n",
       "<p>79 rows × 7 columns</p>\n",
       "</div>"
      ],
      "text/plain": [
       "      siglaTipo siglaPartidoAutor        ultimoStatus_regime  \\\n",
       "2981         PL         CIDADANIA  Urgência (Art. 155, RICD)   \n",
       "2982         PL                PP  Urgência (Art. 155, RICD)   \n",
       "2983         PL               PSB  Urgência (Art. 155, RICD)   \n",
       "3326         PL                PT  Urgência (Art. 155, RICD)   \n",
       "3327         PL                PT  Urgência (Art. 155, RICD)   \n",
       "...         ...               ...                        ...   \n",
       "24668        PL               PSL  Urgência (Art. 155, RICD)   \n",
       "24669        PL               PSL  Urgência (Art. 155, RICD)   \n",
       "24670        PL                PT  Urgência (Art. 155, RICD)   \n",
       "24671        PL               PTB  Urgência (Art. 155, RICD)   \n",
       "31614        PL           PODEMOS  Urgência (Art. 155, RICD)   \n",
       "\n",
       "                      ultimoStatus_descricaoTramitacao dataApresentacao  \\\n",
       "2981                   Transformação em Norma Jurídica       2020-03-17   \n",
       "2982                   Transformação em Norma Jurídica       2020-03-17   \n",
       "2983                   Transformação em Norma Jurídica       2020-03-17   \n",
       "3326   Transformado em Norma Jurídica com Veto Parcial       2020-03-18   \n",
       "3327   Transformado em Norma Jurídica com Veto Parcial       2020-03-18   \n",
       "...                                                ...              ...   \n",
       "24668                  Transformação em Norma Jurídica       2020-06-02   \n",
       "24669                  Transformação em Norma Jurídica       2020-06-02   \n",
       "24670                  Transformação em Norma Jurídica       2020-06-02   \n",
       "24671                  Transformação em Norma Jurídica       2020-06-02   \n",
       "31614  Transformado em Norma Jurídica com Veto Parcial       2020-07-07   \n",
       "\n",
       "      ultimoStatus_dataHora  TempodeTramitacao  \n",
       "2981             2020-04-23                 37  \n",
       "2982             2020-04-23                 37  \n",
       "2983             2020-04-23                 37  \n",
       "3326             2020-08-24                159  \n",
       "3327             2020-08-24                159  \n",
       "...                     ...                ...  \n",
       "24668            2020-09-23                113  \n",
       "24669            2020-09-23                113  \n",
       "24670            2020-09-23                113  \n",
       "24671            2020-09-23                113  \n",
       "31614            2020-08-20                 44  \n",
       "\n",
       "[79 rows x 7 columns]"
      ]
     },
     "execution_count": 88,
     "metadata": {},
     "output_type": "execute_result"
    }
   ],
   "source": [
    "#Filtrar a tabela por projetos de lei e com a seguinte condição: \"Transformação em Norma Jurídica\" ou \"Transformado em Norma Jurídica com Veto Parcial\"\n",
    "\n",
    "#tempomediogr = tempomedio[(tempomedio['siglaTipo'] == \"PL\") & (tempomedio['ultimoStatus_descricaoTramitacao'] == \"Transformação em Norma Jurídica\") | (tempomedio['ultimoStatus_descricaoTramitacao'] == \"Transformado em Norma Jurídica com Veto Parcial\")]\n",
    "#tempomediogr = tempomedio.loc[(tempomedio['siglaTipo'] == \"PL\") & (tempomedio['ultimoStatus_descricaoTramitacao'] == \"Transformação em Norma Jurídica\")]\n",
    "tempomediogr = tempomedio[(tempomedio['siglaTipo'] == \"PL\") & ((tempomedio['ultimoStatus_descricaoTramitacao'] == \"Transformação em Norma Jurídica\") | (tempomedio['ultimoStatus_descricaoTramitacao'] == \"Transformado em Norma Jurídica com Veto Parcial\"))]\n",
    "tempomediogr "
   ]
  },
  {
   "cell_type": "code",
   "execution_count": 92,
   "metadata": {},
   "outputs": [
    {
     "name": "stderr",
     "output_type": "stream",
     "text": [
      "/opt/conda/lib/python3.8/site-packages/seaborn/distributions.py:2551: FutureWarning: `distplot` is a deprecated function and will be removed in a future version. Please adapt your code to use either `displot` (a figure-level function with similar flexibility) or `histplot` (an axes-level function for histograms).\n",
      "  warnings.warn(msg, FutureWarning)\n"
     ]
    },
    {
     "data": {
      "text/plain": [
       "Text(0.5, 1.0, 'Média de tempo para aprovação de projetos de lei')"
      ]
     },
     "execution_count": 92,
     "metadata": {},
     "output_type": "execute_result"
    },
    {
     "data": {
      "image/png": "[encoded data removed]",
      "text/plain": [
       "<Figure size 432x288 with 1 Axes>"
      ]
     },
     "metadata": {
      "needs_background": "light"
     },
     "output_type": "display_data"
    }
   ],
   "source": [
    "#Plotar no gráfico estas informações do tempo de tramitação de projetos de lei.\n",
    "\n",
    "grafictempo = sns.distplot(tempomediogr ['TempodeTramitacao'])\n",
    "grafictempo.set_title('Média de tempo para aprovação de projetos de lei', fontsize=15)\n",
    "\n",
    "#Obs: Percebemos que entre 100 e 200 aumenta o númenro de conversões."
   ]
  },
  {
   "cell_type": "code",
   "execution_count": 91,
   "metadata": {},
   "outputs": [
    {
     "data": {
      "text/plain": [
       "count     79.000000\n",
       "mean     138.835443\n",
       "std       38.795794\n",
       "min       19.000000\n",
       "25%      146.000000\n",
       "50%      159.000000\n",
       "75%      159.000000\n",
       "max      159.000000\n",
       "Name: TempodeTramitacao, dtype: float64"
      ]
     },
     "execution_count": 91,
     "metadata": {},
     "output_type": "execute_result"
    }
   ],
   "source": [
    "tempomediogr['TempodeTramitacao'].describe()"
   ]
  },
  {
   "cell_type": "code",
   "execution_count": 95,
   "metadata": {},
   "outputs": [
    {
     "data": {
      "text/html": [
       "<div>\n",
       "<style scoped>\n",
       "    .dataframe tbody tr th:only-of-type {\n",
       "        vertical-align: middle;\n",
       "    }\n",
       "\n",
       "    .dataframe tbody tr th {\n",
       "        vertical-align: top;\n",
       "    }\n",
       "\n",
       "    .dataframe thead th {\n",
       "        text-align: right;\n",
       "    }\n",
       "</style>\n",
       "<table border=\"1\" class=\"dataframe\">\n",
       "  <thead>\n",
       "    <tr style=\"text-align: right;\">\n",
       "      <th></th>\n",
       "      <th>TempodeTramitacao</th>\n",
       "    </tr>\n",
       "    <tr>\n",
       "      <th>siglaPartidoAutor</th>\n",
       "      <th></th>\n",
       "    </tr>\n",
       "  </thead>\n",
       "  <tbody>\n",
       "    <tr>\n",
       "      <th>CIDADANIA</th>\n",
       "      <td>3.7</td>\n",
       "    </tr>\n",
       "    <tr>\n",
       "      <th>DEM</th>\n",
       "      <td>12.6</td>\n",
       "    </tr>\n",
       "    <tr>\n",
       "      <th>MDB</th>\n",
       "      <td>1.9</td>\n",
       "    </tr>\n",
       "    <tr>\n",
       "      <th>PATRIOTA</th>\n",
       "      <td>11.3</td>\n",
       "    </tr>\n",
       "    <tr>\n",
       "      <th>PCdoB</th>\n",
       "      <td>14.6</td>\n",
       "    </tr>\n",
       "    <tr>\n",
       "      <th>PL</th>\n",
       "      <td>4.0</td>\n",
       "    </tr>\n",
       "    <tr>\n",
       "      <th>PODEMOS</th>\n",
       "      <td>4.4</td>\n",
       "    </tr>\n",
       "    <tr>\n",
       "      <th>PP</th>\n",
       "      <td>6.0</td>\n",
       "    </tr>\n",
       "    <tr>\n",
       "      <th>PROS</th>\n",
       "      <td>6.8</td>\n",
       "    </tr>\n",
       "    <tr>\n",
       "      <th>PSB</th>\n",
       "      <td>13.7</td>\n",
       "    </tr>\n",
       "    <tr>\n",
       "      <th>PSL</th>\n",
       "      <td>11.3</td>\n",
       "    </tr>\n",
       "    <tr>\n",
       "      <th>PT</th>\n",
       "      <td>15.6</td>\n",
       "    </tr>\n",
       "    <tr>\n",
       "      <th>PTB</th>\n",
       "      <td>11.3</td>\n",
       "    </tr>\n",
       "    <tr>\n",
       "      <th>REPUBLIC</th>\n",
       "      <td>14.6</td>\n",
       "    </tr>\n",
       "  </tbody>\n",
       "</table>\n",
       "</div>"
      ],
      "text/plain": [
       "                   TempodeTramitacao\n",
       "siglaPartidoAutor                   \n",
       "CIDADANIA                        3.7\n",
       "DEM                             12.6\n",
       "MDB                              1.9\n",
       "PATRIOTA                        11.3\n",
       "PCdoB                           14.6\n",
       "PL                               4.0\n",
       "PODEMOS                          4.4\n",
       "PP                               6.0\n",
       "PROS                             6.8\n",
       "PSB                             13.7\n",
       "PSL                             11.3\n",
       "PT                              15.6\n",
       "PTB                             11.3\n",
       "REPUBLIC                        14.6"
      ]
     },
     "execution_count": 95,
     "metadata": {},
     "output_type": "execute_result"
    }
   ],
   "source": [
    "#Tempo médio de tramitação por partido\n",
    "\n",
    "tempopartido = tempomediogr.groupby('siglaPartidoAutor').mean()\n",
    "tempopartido  = round(tempopartido)/10\n",
    "tempopartido"
   ]
  },
  {
   "cell_type": "code",
   "execution_count": 97,
   "metadata": {},
   "outputs": [
    {
     "name": "stderr",
     "output_type": "stream",
     "text": [
      "/opt/conda/lib/python3.8/site-packages/pandas/core/indexing.py:1596: SettingWithCopyWarning: \n",
      "A value is trying to be set on a copy of a slice from a DataFrame.\n",
      "Try using .loc[row_indexer,col_indexer] = value instead\n",
      "\n",
      "See the caveats in the documentation: https://pandas.pydata.org/pandas-docs/stable/user_guide/indexing.html#returning-a-view-versus-a-copy\n",
      "  self.obj[key] = _infer_fill_value(value)\n",
      "/opt/conda/lib/python3.8/site-packages/pandas/core/indexing.py:1765: SettingWithCopyWarning: \n",
      "A value is trying to be set on a copy of a slice from a DataFrame.\n",
      "Try using .loc[row_indexer,col_indexer] = value instead\n",
      "\n",
      "See the caveats in the documentation: https://pandas.pydata.org/pandas-docs/stable/user_guide/indexing.html#returning-a-view-versus-a-copy\n",
      "  isetter(loc, value)\n",
      "/opt/conda/lib/python3.8/site-packages/pandas/core/indexing.py:1765: SettingWithCopyWarning: \n",
      "A value is trying to be set on a copy of a slice from a DataFrame.\n",
      "Try using .loc[row_indexer,col_indexer] = value instead\n",
      "\n",
      "See the caveats in the documentation: https://pandas.pydata.org/pandas-docs/stable/user_guide/indexing.html#returning-a-view-versus-a-copy\n",
      "  isetter(loc, value)\n"
     ]
    },
    {
     "data": {
      "text/html": [
       "<div>\n",
       "<style scoped>\n",
       "    .dataframe tbody tr th:only-of-type {\n",
       "        vertical-align: middle;\n",
       "    }\n",
       "\n",
       "    .dataframe tbody tr th {\n",
       "        vertical-align: top;\n",
       "    }\n",
       "\n",
       "    .dataframe thead th {\n",
       "        text-align: right;\n",
       "    }\n",
       "</style>\n",
       "<table border=\"1\" class=\"dataframe\">\n",
       "  <thead>\n",
       "    <tr style=\"text-align: right;\">\n",
       "      <th></th>\n",
       "      <th>siglaTipo</th>\n",
       "      <th>siglaPartidoAutor</th>\n",
       "      <th>ultimoStatus_regime</th>\n",
       "      <th>ultimoStatus_descricaoTramitacao</th>\n",
       "      <th>dataApresentacao</th>\n",
       "      <th>ultimoStatus_dataHora</th>\n",
       "      <th>TempodeTramitacao</th>\n",
       "      <th>classe</th>\n",
       "    </tr>\n",
       "  </thead>\n",
       "  <tbody>\n",
       "    <tr>\n",
       "      <th>2981</th>\n",
       "      <td>PL</td>\n",
       "      <td>CIDADANIA</td>\n",
       "      <td>Urgência (Art. 155, RICD)</td>\n",
       "      <td>Transformação em Norma Jurídica</td>\n",
       "      <td>2020-03-17</td>\n",
       "      <td>2020-04-23</td>\n",
       "      <td>37</td>\n",
       "      <td>menor</td>\n",
       "    </tr>\n",
       "    <tr>\n",
       "      <th>2982</th>\n",
       "      <td>PL</td>\n",
       "      <td>PP</td>\n",
       "      <td>Urgência (Art. 155, RICD)</td>\n",
       "      <td>Transformação em Norma Jurídica</td>\n",
       "      <td>2020-03-17</td>\n",
       "      <td>2020-04-23</td>\n",
       "      <td>37</td>\n",
       "      <td>menor</td>\n",
       "    </tr>\n",
       "    <tr>\n",
       "      <th>2983</th>\n",
       "      <td>PL</td>\n",
       "      <td>PSB</td>\n",
       "      <td>Urgência (Art. 155, RICD)</td>\n",
       "      <td>Transformação em Norma Jurídica</td>\n",
       "      <td>2020-03-17</td>\n",
       "      <td>2020-04-23</td>\n",
       "      <td>37</td>\n",
       "      <td>menor</td>\n",
       "    </tr>\n",
       "    <tr>\n",
       "      <th>3326</th>\n",
       "      <td>PL</td>\n",
       "      <td>PT</td>\n",
       "      <td>Urgência (Art. 155, RICD)</td>\n",
       "      <td>Transformado em Norma Jurídica com Veto Parcial</td>\n",
       "      <td>2020-03-18</td>\n",
       "      <td>2020-08-24</td>\n",
       "      <td>159</td>\n",
       "      <td>maior</td>\n",
       "    </tr>\n",
       "    <tr>\n",
       "      <th>3327</th>\n",
       "      <td>PL</td>\n",
       "      <td>PT</td>\n",
       "      <td>Urgência (Art. 155, RICD)</td>\n",
       "      <td>Transformado em Norma Jurídica com Veto Parcial</td>\n",
       "      <td>2020-03-18</td>\n",
       "      <td>2020-08-24</td>\n",
       "      <td>159</td>\n",
       "      <td>maior</td>\n",
       "    </tr>\n",
       "    <tr>\n",
       "      <th>...</th>\n",
       "      <td>...</td>\n",
       "      <td>...</td>\n",
       "      <td>...</td>\n",
       "      <td>...</td>\n",
       "      <td>...</td>\n",
       "      <td>...</td>\n",
       "      <td>...</td>\n",
       "      <td>...</td>\n",
       "    </tr>\n",
       "    <tr>\n",
       "      <th>24668</th>\n",
       "      <td>PL</td>\n",
       "      <td>PSL</td>\n",
       "      <td>Urgência (Art. 155, RICD)</td>\n",
       "      <td>Transformação em Norma Jurídica</td>\n",
       "      <td>2020-06-02</td>\n",
       "      <td>2020-09-23</td>\n",
       "      <td>113</td>\n",
       "      <td>menor</td>\n",
       "    </tr>\n",
       "    <tr>\n",
       "      <th>24669</th>\n",
       "      <td>PL</td>\n",
       "      <td>PSL</td>\n",
       "      <td>Urgência (Art. 155, RICD)</td>\n",
       "      <td>Transformação em Norma Jurídica</td>\n",
       "      <td>2020-06-02</td>\n",
       "      <td>2020-09-23</td>\n",
       "      <td>113</td>\n",
       "      <td>menor</td>\n",
       "    </tr>\n",
       "    <tr>\n",
       "      <th>24670</th>\n",
       "      <td>PL</td>\n",
       "      <td>PT</td>\n",
       "      <td>Urgência (Art. 155, RICD)</td>\n",
       "      <td>Transformação em Norma Jurídica</td>\n",
       "      <td>2020-06-02</td>\n",
       "      <td>2020-09-23</td>\n",
       "      <td>113</td>\n",
       "      <td>menor</td>\n",
       "    </tr>\n",
       "    <tr>\n",
       "      <th>24671</th>\n",
       "      <td>PL</td>\n",
       "      <td>PTB</td>\n",
       "      <td>Urgência (Art. 155, RICD)</td>\n",
       "      <td>Transformação em Norma Jurídica</td>\n",
       "      <td>2020-06-02</td>\n",
       "      <td>2020-09-23</td>\n",
       "      <td>113</td>\n",
       "      <td>menor</td>\n",
       "    </tr>\n",
       "    <tr>\n",
       "      <th>31614</th>\n",
       "      <td>PL</td>\n",
       "      <td>PODEMOS</td>\n",
       "      <td>Urgência (Art. 155, RICD)</td>\n",
       "      <td>Transformado em Norma Jurídica com Veto Parcial</td>\n",
       "      <td>2020-07-07</td>\n",
       "      <td>2020-08-20</td>\n",
       "      <td>44</td>\n",
       "      <td>menor</td>\n",
       "    </tr>\n",
       "  </tbody>\n",
       "</table>\n",
       "<p>79 rows × 8 columns</p>\n",
       "</div>"
      ],
      "text/plain": [
       "      siglaTipo siglaPartidoAutor        ultimoStatus_regime  \\\n",
       "2981         PL         CIDADANIA  Urgência (Art. 155, RICD)   \n",
       "2982         PL                PP  Urgência (Art. 155, RICD)   \n",
       "2983         PL               PSB  Urgência (Art. 155, RICD)   \n",
       "3326         PL                PT  Urgência (Art. 155, RICD)   \n",
       "3327         PL                PT  Urgência (Art. 155, RICD)   \n",
       "...         ...               ...                        ...   \n",
       "24668        PL               PSL  Urgência (Art. 155, RICD)   \n",
       "24669        PL               PSL  Urgência (Art. 155, RICD)   \n",
       "24670        PL                PT  Urgência (Art. 155, RICD)   \n",
       "24671        PL               PTB  Urgência (Art. 155, RICD)   \n",
       "31614        PL           PODEMOS  Urgência (Art. 155, RICD)   \n",
       "\n",
       "                      ultimoStatus_descricaoTramitacao dataApresentacao  \\\n",
       "2981                   Transformação em Norma Jurídica       2020-03-17   \n",
       "2982                   Transformação em Norma Jurídica       2020-03-17   \n",
       "2983                   Transformação em Norma Jurídica       2020-03-17   \n",
       "3326   Transformado em Norma Jurídica com Veto Parcial       2020-03-18   \n",
       "3327   Transformado em Norma Jurídica com Veto Parcial       2020-03-18   \n",
       "...                                                ...              ...   \n",
       "24668                  Transformação em Norma Jurídica       2020-06-02   \n",
       "24669                  Transformação em Norma Jurídica       2020-06-02   \n",
       "24670                  Transformação em Norma Jurídica       2020-06-02   \n",
       "24671                  Transformação em Norma Jurídica       2020-06-02   \n",
       "31614  Transformado em Norma Jurídica com Veto Parcial       2020-07-07   \n",
       "\n",
       "      ultimoStatus_dataHora  TempodeTramitacao classe  \n",
       "2981             2020-04-23                 37  menor  \n",
       "2982             2020-04-23                 37  menor  \n",
       "2983             2020-04-23                 37  menor  \n",
       "3326             2020-08-24                159  maior  \n",
       "3327             2020-08-24                159  maior  \n",
       "...                     ...                ...    ...  \n",
       "24668            2020-09-23                113  menor  \n",
       "24669            2020-09-23                113  menor  \n",
       "24670            2020-09-23                113  menor  \n",
       "24671            2020-09-23                113  menor  \n",
       "31614            2020-08-20                 44  menor  \n",
       "\n",
       "[79 rows x 8 columns]"
      ]
     },
     "execution_count": 97,
     "metadata": {},
     "output_type": "execute_result"
    }
   ],
   "source": [
    "# Classificar os dados conforme a média de tramitação\n",
    "\n",
    "tempomediogr.loc[tempomediogr['TempodeTramitacao'] >= 138, 'classe'] = 'maior'  \n",
    "tempomediogr.loc[tempomediogr['TempodeTramitacao'] < 138, 'classe'] = 'menor' \n",
    "tempomediogr"
   ]
  },
  {
   "cell_type": "code",
   "execution_count": 100,
   "metadata": {},
   "outputs": [
    {
     "name": "stderr",
     "output_type": "stream",
     "text": [
      "/opt/conda/lib/python3.8/site-packages/seaborn/_decorators.py:36: FutureWarning: Pass the following variables as keyword args: x, y. From version 0.12, the only valid positional argument will be `data`, and passing other arguments without an explicit keyword will result in an error or misinterpretation.\n",
      "  warnings.warn(\n"
     ]
    },
    {
     "data": {
      "text/plain": [
       "Text(0.5, 1.0, 'Quantidade de projetos acima ou abaixo da média')"
      ]
     },
     "execution_count": 100,
     "metadata": {},
     "output_type": "execute_result"
    },
    {
     "data": {
      "image/png": "[encoded data removed]",
      "text/plain": [
       "<Figure size 432x288 with 1 Axes>"
      ]
     },
     "metadata": {
      "needs_background": "light"
     },
     "output_type": "display_data"
    }
   ],
   "source": [
    "#Plotar as informações onde existe maior quantidade de projetos de lei transformados com base na média\n",
    "qtdmedia = sns.violinplot(\"classe\", \"TempodeTramitacao\", data=tempomediogr,\n",
    "               palette=[\"lightblue\", \"lightpink\"]);\n",
    "qtdmedia.set_title('Quantidade de projetos acima ou abaixo da média', fontsize=15)\n",
    "\n",
    "#Obs: O maior número de projetos convertidos se encontra na faixa de 150 a 175"
   ]
  },
  {
   "cell_type": "code",
   "execution_count": 104,
   "metadata": {},
   "outputs": [],
   "source": [
    "#Descobrir aonde se encontram o partido na aprovação de seus projetos de lei\n",
    "\n",
    "partidomedia = tempomediogr.where(tempomediogr.TempodeTramitacao >= 138).groupby('siglaPartidoAutor').TempodeTramitacao.count()\n",
    "partidomedia2 = tempomediogr.where(tempomediogr.TempodeTramitacao < 138).groupby('siglaPartidoAutor').TempodeTramitacao.count()"
   ]
  },
  {
   "cell_type": "code",
   "execution_count": 105,
   "metadata": {},
   "outputs": [
    {
     "data": {
      "text/plain": [
       "siglaPartidoAutor\n",
       "PCdoB        3\n",
       "PSB         11\n",
       "PT          48\n",
       "REPUBLIC     1\n",
       "Name: TempodeTramitacao, dtype: int64"
      ]
     },
     "execution_count": 105,
     "metadata": {},
     "output_type": "execute_result"
    }
   ],
   "source": [
    "partidomedia"
   ]
  },
  {
   "cell_type": "code",
   "execution_count": 106,
   "metadata": {},
   "outputs": [
    {
     "data": {
      "text/plain": [
       "siglaPartidoAutor\n",
       "CIDADANIA    1\n",
       "DEM          1\n",
       "MDB          1\n",
       "PATRIOTA     1\n",
       "PL           1\n",
       "PODEMOS      1\n",
       "PP           3\n",
       "PROS         1\n",
       "PSB          1\n",
       "PSL          2\n",
       "PT           2\n",
       "PTB          1\n",
       "Name: TempodeTramitacao, dtype: int64"
      ]
     },
     "execution_count": 106,
     "metadata": {},
     "output_type": "execute_result"
    }
   ],
   "source": [
    "partidomedia2"
   ]
  },
  {
   "cell_type": "markdown",
   "metadata": {},
   "source": [
    "#####  3 - Análise do Regime e o tempo de tramitação"
   ]
  },
  {
   "cell_type": "code",
   "execution_count": 107,
   "metadata": {},
   "outputs": [
    {
     "data": {
      "text/plain": [
       "Urgência (Art. 155, RICD)    79\n",
       "Name: ultimoStatus_regime, dtype: int64"
      ]
     },
     "execution_count": 107,
     "metadata": {},
     "output_type": "execute_result"
    }
   ],
   "source": [
    "tempomediogr['ultimoStatus_regime'].value_counts()"
   ]
  },
  {
   "cell_type": "markdown",
   "metadata": {},
   "source": [
    "#####  4 - Análise do período de conversão de projetos de lei"
   ]
  },
  {
   "cell_type": "code",
   "execution_count": 111,
   "metadata": {},
   "outputs": [
    {
     "name": "stderr",
     "output_type": "stream",
     "text": [
      "<ipython-input-111-ea4b81f9c099>:3: SettingWithCopyWarning: \n",
      "A value is trying to be set on a copy of a slice from a DataFrame.\n",
      "Try using .loc[row_indexer,col_indexer] = value instead\n",
      "\n",
      "See the caveats in the documentation: https://pandas.pydata.org/pandas-docs/stable/user_guide/indexing.html#returning-a-view-versus-a-copy\n",
      "  tempomediogr['ultimoStatus_dataHora'] =  pd.to_datetime(tempomediogr['ultimoStatus_dataHora'], format='%Y-%m-%d')\n",
      "<ipython-input-111-ea4b81f9c099>:4: SettingWithCopyWarning: \n",
      "A value is trying to be set on a copy of a slice from a DataFrame.\n",
      "Try using .loc[row_indexer,col_indexer] = value instead\n",
      "\n",
      "See the caveats in the documentation: https://pandas.pydata.org/pandas-docs/stable/user_guide/indexing.html#returning-a-view-versus-a-copy\n",
      "  tempomediogr['MES'] = tempomediogr['ultimoStatus_dataHora'].dt.month\n"
     ]
    }
   ],
   "source": [
    "# Separar a data do último status em formato de mês\n",
    "\n",
    "tempomediogr['ultimoStatus_dataHora'] =  pd.to_datetime(tempomediogr['ultimoStatus_dataHora'], format='%Y-%m-%d')\n",
    "tempomediogr['MES'] = tempomediogr['ultimoStatus_dataHora'].dt.month"
   ]
  },
  {
   "cell_type": "code",
   "execution_count": 118,
   "metadata": {},
   "outputs": [
    {
     "name": "stderr",
     "output_type": "stream",
     "text": [
      "<ipython-input-118-a5b2abc1c2c9>:3: SettingWithCopyWarning: \n",
      "A value is trying to be set on a copy of a slice from a DataFrame.\n",
      "Try using .loc[row_indexer,col_indexer] = value instead\n",
      "\n",
      "See the caveats in the documentation: https://pandas.pydata.org/pandas-docs/stable/user_guide/indexing.html#returning-a-view-versus-a-copy\n",
      "  tempomediogr['numero']= 1\n"
     ]
    }
   ],
   "source": [
    "# Criar uma coluna com o numerador \"1\" para contabilizar os projetos de lei convertidos\n",
    "\n",
    "tempomediogr['numero']= 1"
   ]
  },
  {
   "cell_type": "code",
   "execution_count": 117,
   "metadata": {},
   "outputs": [
    {
     "data": {
      "text/html": [
       "<div>\n",
       "<style scoped>\n",
       "    .dataframe tbody tr th:only-of-type {\n",
       "        vertical-align: middle;\n",
       "    }\n",
       "\n",
       "    .dataframe tbody tr th {\n",
       "        vertical-align: top;\n",
       "    }\n",
       "\n",
       "    .dataframe thead th {\n",
       "        text-align: right;\n",
       "    }\n",
       "</style>\n",
       "<table border=\"1\" class=\"dataframe\">\n",
       "  <thead>\n",
       "    <tr style=\"text-align: right;\">\n",
       "      <th></th>\n",
       "      <th>MES</th>\n",
       "      <th>numero</th>\n",
       "    </tr>\n",
       "  </thead>\n",
       "  <tbody>\n",
       "    <tr>\n",
       "      <th>0</th>\n",
       "      <td>4</td>\n",
       "      <td>6</td>\n",
       "    </tr>\n",
       "    <tr>\n",
       "      <th>1</th>\n",
       "      <td>5</td>\n",
       "      <td>1</td>\n",
       "    </tr>\n",
       "    <tr>\n",
       "      <th>2</th>\n",
       "      <td>6</td>\n",
       "      <td>1</td>\n",
       "    </tr>\n",
       "    <tr>\n",
       "      <th>3</th>\n",
       "      <td>7</td>\n",
       "      <td>1</td>\n",
       "    </tr>\n",
       "    <tr>\n",
       "      <th>4</th>\n",
       "      <td>8</td>\n",
       "      <td>49</td>\n",
       "    </tr>\n",
       "    <tr>\n",
       "      <th>5</th>\n",
       "      <td>9</td>\n",
       "      <td>6</td>\n",
       "    </tr>\n",
       "    <tr>\n",
       "      <th>6</th>\n",
       "      <td>10</td>\n",
       "      <td>15</td>\n",
       "    </tr>\n",
       "  </tbody>\n",
       "</table>\n",
       "</div>"
      ],
      "text/plain": [
       "   MES  numero\n",
       "0    4       6\n",
       "1    5       1\n",
       "2    6       1\n",
       "3    7       1\n",
       "4    8      49\n",
       "5    9       6\n",
       "6   10      15"
      ]
     },
     "execution_count": 117,
     "metadata": {},
     "output_type": "execute_result"
    }
   ],
   "source": [
    "# Criar o agrupamento de mês com projetos de lei convertidos\n",
    "\n",
    "convertidosmes = tempomediogr.groupby(['MES'],as_index=False).agg({'numero':sum})\n",
    "convertidosmes"
   ]
  },
  {
   "cell_type": "code",
   "execution_count": 120,
   "metadata": {},
   "outputs": [
    {
     "data": {
      "text/plain": [
       "<seaborn.axisgrid.FacetGrid at 0x7fd94ae29f40>"
      ]
     },
     "execution_count": 120,
     "metadata": {},
     "output_type": "execute_result"
    },
    {
     "data": {
      "image/png": "[encoded data removed]",
      "text/plain": [
       "<Figure size 360x360 with 1 Axes>"
      ]
     },
     "metadata": {
      "needs_background": "light"
     },
     "output_type": "display_data"
    }
   ],
   "source": [
    "#Plotar as informações no histograma\n",
    "\n",
    "sns.relplot(x=\"MES\", y=\"numero\", \n",
    "            kind=\"line\", data=convertidosmes)\n",
    "\n",
    "#Obs: Agosto foi um mês com maior conversão de projetos de lei"
   ]
  },
  {
   "cell_type": "markdown",
   "metadata": {},
   "source": [
    "### Conclusões e Achados"
   ]
  },
  {
   "cell_type": "markdown",
   "metadata": {},
   "source": [
    "##### Achados"
   ]
  },
  {
   "cell_type": "code",
   "execution_count": null,
   "metadata": {},
   "outputs": [],
   "source": [
    "Quanto a produçao legislativa podemos perceber que o Partido dos Trabalhadores tem um alta produção no ano de 2020, o que\n",
    "automaticamente no seu poder de conversão de projetos de lei, 50 até o momento, seguido do PSB com 11 conversões."
   ]
  },
  {
   "cell_type": "code",
   "execution_count": null,
   "metadata": {
    "deletable": false,
    "nbgrader": {
     "cell_type": "code",
     "checksum": "2bbd57bf07357e58615370d45704fd8c",
     "grade": true,
     "grade_id": "cell-06eb20edabcbb6c1",
     "locked": false,
     "points": 2,
     "schema_version": 3,
     "solution": true,
     "task": false
    }
   },
   "outputs": [],
   "source": [
    "Quanto ao tempo médio de conversões de projetos de lei podemos perceber que a maioria do projetos de lei tem o tempo de conversão\n",
    "entre 150 a 160 dias, sendo a média 130 dias. Entre os partidos aquele que teve o menor tempo médio para aprovação foi o MDB o qual\n",
    "teve apenas um projeto convertido. "
   ]
  },
  {
   "cell_type": "code",
   "execution_count": null,
   "metadata": {},
   "outputs": [],
   "source": [
    "Com base na média de tramitação percebmos que o Partido dos Trabalhadores com um total de 50 projetos convertidos, teve 48 \n",
    "projetos com um tempo maior que a média para serem aprovados enquanto outros partidos com menos preposições mantiveram-se abaixo\n",
    "da média."
   ]
  },
  {
   "cell_type": "code",
   "execution_count": null,
   "metadata": {},
   "outputs": [],
   "source": [
    "Quanto ao regime de tramitação foi possível perceber que o regime de urgência é vital para a transformação do projeto em lei,\n",
    "tendo todos os dados respeitado este regime."
   ]
  },
  {
   "cell_type": "code",
   "execution_count": null,
   "metadata": {},
   "outputs": [],
   "source": [
    "Quanto ao período de conversão dos projetos de lei pode-se inferir que agosto é o mês que mais houve o processo de conversão. "
   ]
  },
  {
   "cell_type": "markdown",
   "metadata": {},
   "source": [
    "##### Conclusões"
   ]
  },
  {
   "cell_type": "code",
   "execution_count": 122,
   "metadata": {},
   "outputs": [
    {
     "ename": "SyntaxError",
     "evalue": "invalid syntax (<ipython-input-122-4641a4af8522>, line 1)",
     "output_type": "error",
     "traceback": [
      "\u001b[0;36m  File \u001b[0;32m\"<ipython-input-122-4641a4af8522>\"\u001b[0;36m, line \u001b[0;32m1\u001b[0m\n\u001b[0;31m    1 - O partido que tem mais produção legislativa efetivamente consegue aprovar mais projetos, pode-se inferir que com um bancada\u001b[0m\n\u001b[0m          ^\u001b[0m\n\u001b[0;31mSyntaxError\u001b[0m\u001b[0;31m:\u001b[0m invalid syntax\n"
     ]
    }
   ],
   "source": [
    "1 - Podemos perceber que a conversão de projetos de lei é baixa, no geral, porém destingui-se o comportamento das duas \n",
    "bancadas da Câmara dos Deputados, o Partidos dos Trabalhadores consegue aprovar suas preposições, enquanto o MDB teve apenas\n",
    "um projeto convertido. "
   ]
  },
  {
   "cell_type": "code",
   "execution_count": null,
   "metadata": {},
   "outputs": [],
   "source": [
    "2 - Podemos perceber que o regime de urgência é um critério fundamental para aprovação de projetos de lei em 2020."
   ]
  },
  {
   "cell_type": "code",
   "execution_count": null,
   "metadata": {},
   "outputs": [],
   "source": [
    "3 - O fato de a maioria dos projetos demorar mais de 130 para ser aprovado pode ser devido ao embate polítco para conversão."
   ]
  },
  {
   "cell_type": "code",
   "execution_count": 123,
   "metadata": {},
   "outputs": [
    {
     "ename": "SyntaxError",
     "evalue": "invalid syntax (<ipython-input-123-092b592ac810>, line 1)",
     "output_type": "error",
     "traceback": [
      "\u001b[0;36m  File \u001b[0;32m\"<ipython-input-123-092b592ac810>\"\u001b[0;36m, line \u001b[0;32m1\u001b[0m\n\u001b[0;31m    4 - O fato de os projetos de lei serem, em sua grande maioria, convertidos em agosto pode inferir que:\u001b[0m\n\u001b[0m          ^\u001b[0m\n\u001b[0;31mSyntaxError\u001b[0m\u001b[0;31m:\u001b[0m invalid syntax\n"
     ]
    }
   ],
   "source": [
    "4 - O fato de os projetos de lei serem, em sua grande maioria, convertidos em agosto pode inferir que:\n",
    "    - Mundança no líder de governo;\n",
    "    - A Câmara dos Deputados retorna a sessão deliberativa virtual do Plenário em agosto, parada devido a pandemia. "
   ]
  }
 ],
 "metadata": {
  "kernelspec": {
   "display_name": "Python 3",
   "language": "python",
   "name": "python3"
  },
  "language_info": {
   "codemirror_mode": {
    "name": "ipython",
    "version": 3
   },
   "file_extension": ".py",
   "mimetype": "text/x-python",
   "name": "python",
   "nbconvert_exporter": "python",
   "pygments_lexer": "ipython3",
   "version": "3.8.6"
  }
 },
 "nbformat": 4,
 "nbformat_minor": 4
}
